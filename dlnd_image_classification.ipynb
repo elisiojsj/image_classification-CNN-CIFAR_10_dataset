{
 "cells": [
  {
   "cell_type": "markdown",
   "metadata": {
    "collapsed": true,
    "deletable": true,
    "editable": true
   },
   "source": [
    "# Image Classification\n",
    "In this project, you'll classify images from the [CIFAR-10 dataset](https://www.cs.toronto.edu/~kriz/cifar.html).  The dataset consists of airplanes, dogs, cats, and other objects. You'll preprocess the images, then train a convolutional neural network on all the samples. The images need to be normalized and the labels need to be one-hot encoded.  You'll get to apply what you learned and build a convolutional, max pooling, dropout, and fully connected layers.  At the end, you'll get to see your neural network's predictions on the sample images.\n",
    "## Get the Data\n",
    "Run the following cell to download the [CIFAR-10 dataset for python](https://www.cs.toronto.edu/~kriz/cifar-10-python.tar.gz)."
   ]
  },
  {
   "cell_type": "code",
   "execution_count": 47,
   "metadata": {
    "collapsed": false,
    "deletable": true,
    "editable": true
   },
   "outputs": [
    {
     "name": "stdout",
     "output_type": "stream",
     "text": [
      "All files found!\n"
     ]
    }
   ],
   "source": [
    "\"\"\"\n",
    "DON'T MODIFY ANYTHING IN THIS CELL THAT IS BELOW THIS LINE\n",
    "\"\"\"\n",
    "from urllib.request import urlretrieve\n",
    "from os.path import isfile, isdir\n",
    "from tqdm import tqdm\n",
    "import problem_unittests as tests\n",
    "import tarfile\n",
    "\n",
    "cifar10_dataset_folder_path = 'cifar-10-batches-py'\n",
    "\n",
    "class DLProgress(tqdm):\n",
    "    last_block = 0\n",
    "\n",
    "    def hook(self, block_num=1, block_size=1, total_size=None):\n",
    "        self.total = total_size\n",
    "        self.update((block_num - self.last_block) * block_size)\n",
    "        self.last_block = block_num\n",
    "\n",
    "if not isfile('cifar-10-python.tar.gz'):\n",
    "    with DLProgress(unit='B', unit_scale=True, miniters=1, desc='CIFAR-10 Dataset') as pbar:\n",
    "        urlretrieve(\n",
    "            'https://www.cs.toronto.edu/~kriz/cifar-10-python.tar.gz',\n",
    "            'cifar-10-python.tar.gz',\n",
    "            pbar.hook)\n",
    "\n",
    "if not isdir(cifar10_dataset_folder_path):\n",
    "    with tarfile.open('cifar-10-python.tar.gz') as tar:\n",
    "        tar.extractall()\n",
    "        tar.close()\n",
    "\n",
    "\n",
    "tests.test_folder_path(cifar10_dataset_folder_path)"
   ]
  },
  {
   "cell_type": "markdown",
   "metadata": {
    "deletable": true,
    "editable": true
   },
   "source": [
    "## Explore the Data\n",
    "The dataset is broken into batches to prevent your machine from running out of memory.  The CIFAR-10 dataset consists of 5 batches, named `data_batch_1`, `data_batch_2`, etc.. Each batch contains the labels and images that are one of the following:\n",
    "* airplane\n",
    "* automobile\n",
    "* bird\n",
    "* cat\n",
    "* deer\n",
    "* dog\n",
    "* frog\n",
    "* horse\n",
    "* ship\n",
    "* truck\n",
    "\n",
    "Understanding a dataset is part of making predictions on the data.  Play around with the code cell below by changing the `batch_id` and `sample_id`. The `batch_id` is the id for a batch (1-5). The `sample_id` is the id for a image and label pair in the batch.\n",
    "\n",
    "Ask yourself \"What are all possible labels?\", \"What is the range of values for the image data?\", \"Are the labels in order or random?\".  Answers to questions like these will help you preprocess the data and end up with better predictions."
   ]
  },
  {
   "cell_type": "code",
   "execution_count": 48,
   "metadata": {
    "collapsed": false,
    "deletable": true,
    "editable": true
   },
   "outputs": [
    {
     "name": "stdout",
     "output_type": "stream",
     "text": [
      "\n",
      "Stats of batch 2:\n",
      "Samples: 10000\n",
      "Label Counts: {0: 984, 1: 1007, 2: 1010, 3: 995, 4: 1010, 5: 988, 6: 1008, 7: 1026, 8: 987, 9: 985}\n",
      "First 20 Labels: [1, 6, 6, 8, 8, 3, 4, 6, 0, 6, 0, 3, 6, 6, 5, 4, 8, 3, 2, 6]\n",
      "\n",
      "Example of Image 7:\n",
      "Image - Min Value: 4 Max Value: 226\n",
      "Image - Shape: (32, 32, 3)\n",
      "Label - Label Id: 6 Name: frog\n"
     ]
    },
    {
     "data": {
      "image/png": "[encoded data removed]",
      "text/plain": [
       "<matplotlib.figure.Figure at 0x7eff4969b3c8>"
      ]
     },
     "metadata": {
      "image/png": {
       "height": 250,
       "width": 253
      }
     },
     "output_type": "display_data"
    }
   ],
   "source": [
    "%matplotlib inline\n",
    "%config InlineBackend.figure_format = 'retina'\n",
    "\n",
    "import helper\n",
    "import numpy as np\n",
    "\n",
    "# Explore the dataset\n",
    "batch_id = 2\n",
    "sample_id = 7\n",
    "helper.display_stats(cifar10_dataset_folder_path, batch_id, sample_id)"
   ]
  },
  {
   "cell_type": "markdown",
   "metadata": {
    "deletable": true,
    "editable": true
   },
   "source": [
    "## Implement Preprocess Functions\n",
    "### Normalize\n",
    "In the cell below, implement the `normalize` function to take in image data, `x`, and return it as a normalized Numpy array. The values should be in the range of 0 to 1, inclusive.  The return object should be the same shape as `x`."
   ]
  },
  {
   "cell_type": "code",
   "execution_count": 101,
   "metadata": {
    "collapsed": false,
    "deletable": true,
    "editable": true
   },
   "outputs": [
    {
     "name": "stdout",
     "output_type": "stream",
     "text": [
      "Tests Passed\n"
     ]
    }
   ],
   "source": [
    "import numpy as np\n",
    "def normalize(x):\n",
    "    \"\"\"\n",
    "    Normalize a list of sample image data in the range of 0 to 1\n",
    "    : x: List of image data.  The image shape is (32, 32, 3)\n",
    "    : return: Numpy array of normalize data\n",
    "    \"\"\"\n",
    "    # TODO: Implement Function\n",
    "    #normalized_data = np.array(x)\n",
    "    #normalized_data = abs(x - 128) / 128\n",
    "    #return normalized_data\n",
    "    return np.array((x) / (255.0))\n",
    "\n",
    "\n",
    "\"\"\"\n",
    "DON'T MODIFY ANYTHING IN THIS CELL THAT IS BELOW THIS LINE\n",
    "\"\"\"\n",
    "tests.test_normalize(normalize)"
   ]
  },
  {
   "cell_type": "markdown",
   "metadata": {
    "deletable": true,
    "editable": true
   },
   "source": [
    "### One-hot encode\n",
    "Just like the previous code cell, you'll be implementing a function for preprocessing.  This time, you'll implement the `one_hot_encode` function. The input, `x`, are a list of labels.  Implement the function to return the list of labels as One-Hot encoded Numpy array.  The possible values for labels are 0 to 9. The one-hot encoding function should return the same encoding for each value between each call to `one_hot_encode`.  Make sure to save the map of encodings outside the function.\n",
    "\n",
    "Hint: Don't reinvent the wheel."
   ]
  },
  {
   "cell_type": "code",
   "execution_count": 50,
   "metadata": {
    "collapsed": false,
    "deletable": true,
    "editable": true
   },
   "outputs": [
    {
     "name": "stdout",
     "output_type": "stream",
     "text": [
      "Tests Passed\n"
     ]
    }
   ],
   "source": [
    "from sklearn import preprocessing\n",
    "\n",
    "def one_hot_encode(x):\n",
    "    \"\"\"\n",
    "    One hot encode a list of sample labels. Return a one-hot encoded vector for each label.\n",
    "    : x: List of sample Labels\n",
    "    : return: Numpy array of one-hot encoded labels\n",
    "    \"\"\"\n",
    "    # TODO: Implement Function\n",
    "    return np.eye(10)[x]#lb.transform(x)\n",
    "\n",
    "\n",
    "\"\"\"\n",
    "DON'T MODIFY ANYTHING IN THIS CELL THAT IS BELOW THIS LINE\n",
    "\"\"\"\n",
    "tests.test_one_hot_encode(one_hot_encode)"
   ]
  },
  {
   "cell_type": "markdown",
   "metadata": {
    "deletable": true,
    "editable": true
   },
   "source": [
    "### Randomize Data\n",
    "As you saw from exploring the data above, the order of the samples are randomized.  It doesn't hurt to randomize it again, but you don't need to for this dataset."
   ]
  },
  {
   "cell_type": "markdown",
   "metadata": {
    "deletable": true,
    "editable": true
   },
   "source": [
    "## Preprocess all the data and save it\n",
    "Running the code cell below will preprocess all the CIFAR-10 data and save it to file. The code below also uses 10% of the training data for validation."
   ]
  },
  {
   "cell_type": "code",
   "execution_count": 1,
   "metadata": {
    "collapsed": false,
    "deletable": true,
    "editable": true
   },
   "outputs": [
    {
     "ename": "NameError",
     "evalue": "name 'helper' is not defined",
     "output_type": "error",
     "traceback": [
      "\u001b[0;31m---------------------------------------------------------------------------\u001b[0m",
      "\u001b[0;31mNameError\u001b[0m                                 Traceback (most recent call last)",
      "\u001b[0;32m<ipython-input-1-2e43b03e04f3>\u001b[0m in \u001b[0;36m<module>\u001b[0;34m()\u001b[0m\n\u001b[1;32m      3\u001b[0m \"\"\"\n\u001b[1;32m      4\u001b[0m \u001b[0;31m# Preprocess Training, Validation, and Testing Data\u001b[0m\u001b[0;34m\u001b[0m\u001b[0;34m\u001b[0m\u001b[0m\n\u001b[0;32m----> 5\u001b[0;31m \u001b[0mhelper\u001b[0m\u001b[0;34m.\u001b[0m\u001b[0mpreprocess_and_save_data\u001b[0m\u001b[0;34m(\u001b[0m\u001b[0mcifar10_dataset_folder_path\u001b[0m\u001b[0;34m,\u001b[0m \u001b[0mnormalize\u001b[0m\u001b[0;34m,\u001b[0m \u001b[0mone_hot_encode\u001b[0m\u001b[0;34m)\u001b[0m\u001b[0;34m\u001b[0m\u001b[0m\n\u001b[0m",
      "\u001b[0;31mNameError\u001b[0m: name 'helper' is not defined"
     ]
    }
   ],
   "source": [
    "\"\"\"\n",
    "DON'T MODIFY ANYTHING IN THIS CELL\n",
    "\"\"\"\n",
    "# Preprocess Training, Validation, and Testing Data\n",
    "helper.preprocess_and_save_data(cifar10_dataset_folder_path, normalize, one_hot_encode)"
   ]
  },
  {
   "cell_type": "markdown",
   "metadata": {
    "deletable": true,
    "editable": true
   },
   "source": [
    "# Check Point\n",
    "This is your first checkpoint.  If you ever decide to come back to this notebook or have to restart the notebook, you can start from here.  The preprocessed data has been saved to disk."
   ]
  },
  {
   "cell_type": "code",
   "execution_count": 1,
   "metadata": {
    "collapsed": true,
    "deletable": true,
    "editable": true
   },
   "outputs": [],
   "source": [
    "\"\"\"\n",
    "DON'T MODIFY ANYTHING IN THIS CELL\n",
    "\"\"\"\n",
    "import pickle\n",
    "import problem_unittests as tests\n",
    "import helper\n",
    "\n",
    "# Load the Preprocessed Validation data\n",
    "valid_features, valid_labels = pickle.load(open('preprocess_validation.p', mode='rb'))"
   ]
  },
  {
   "cell_type": "markdown",
   "metadata": {
    "deletable": true,
    "editable": true
   },
   "source": [
    "## Build the network\n",
    "For the neural network, you'll build each layer into a function.  Most of the code you've seen has been outside of functions. To test your code more thoroughly, we require that you put each layer in a function.  This allows us to give you better feedback and test for simple mistakes using our unittests before you submit your project.\n",
    "\n",
    ">**Note:** If you're finding it hard to dedicate enough time for this course each week, we've provided a small shortcut to this part of the project. In the next couple of problems, you'll have the option to use classes from the [TensorFlow Layers](https://www.tensorflow.org/api_docs/python/tf/layers) or [TensorFlow Layers (contrib)](https://www.tensorflow.org/api_guides/python/contrib.layers) packages to build each layer, except the layers you build in the \"Convolutional and Max Pooling Layer\" section.  TF Layers is similar to Keras's and TFLearn's abstraction to layers, so it's easy to pickup.\n",
    "\n",
    ">However, if you would like to get the most out of this course, try to solve all the problems _without_ using anything from the TF Layers packages. You **can** still use classes from other packages that happen to have the same name as ones you find in TF Layers! For example, instead of using the TF Layers version of the `conv2d` class, [tf.layers.conv2d](https://www.tensorflow.org/api_docs/python/tf/layers/conv2d), you would want to use the TF Neural Network version of `conv2d`, [tf.nn.conv2d](https://www.tensorflow.org/api_docs/python/tf/nn/conv2d). \n",
    "\n",
    "Let's begin!\n",
    "\n",
    "### Input\n",
    "The neural network needs to read the image data, one-hot encoded labels, and dropout keep probability. Implement the following functions\n",
    "* Implement `neural_net_image_input`\n",
    " * Return a [TF Placeholder](https://www.tensorflow.org/api_docs/python/tf/placeholder)\n",
    " * Set the shape using `image_shape` with batch size set to `None`.\n",
    " * Name the TensorFlow placeholder \"x\" using the TensorFlow `name` parameter in the [TF Placeholder](https://www.tensorflow.org/api_docs/python/tf/placeholder).\n",
    "* Implement `neural_net_label_input`\n",
    " * Return a [TF Placeholder](https://www.tensorflow.org/api_docs/python/tf/placeholder)\n",
    " * Set the shape using `n_classes` with batch size set to `None`.\n",
    " * Name the TensorFlow placeholder \"y\" using the TensorFlow `name` parameter in the [TF Placeholder](https://www.tensorflow.org/api_docs/python/tf/placeholder).\n",
    "* Implement `neural_net_keep_prob_input`\n",
    " * Return a [TF Placeholder](https://www.tensorflow.org/api_docs/python/tf/placeholder) for dropout keep probability.\n",
    " * Name the TensorFlow placeholder \"keep_prob\" using the TensorFlow `name` parameter in the [TF Placeholder](https://www.tensorflow.org/api_docs/python/tf/placeholder).\n",
    "\n",
    "These names will be used at the end of the project to load your saved model.\n",
    "\n",
    "Note: `None` for shapes in TensorFlow allow for a dynamic size."
   ]
  },
  {
   "cell_type": "code",
   "execution_count": 2,
   "metadata": {
    "collapsed": false,
    "deletable": true,
    "editable": true
   },
   "outputs": [
    {
     "name": "stdout",
     "output_type": "stream",
     "text": [
      "Image Input Tests Passed.\n",
      "Label Input Tests Passed.\n",
      "Keep Prob Tests Passed.\n"
     ]
    }
   ],
   "source": [
    "import tensorflow as tf\n",
    "\n",
    "def neural_net_image_input(image_shape):\n",
    "    \"\"\"\n",
    "    Return a Tensor for a bach of image input\n",
    "    : image_shape: Shape of the images\n",
    "    : return: Tensor for image input.\n",
    "    \"\"\"\n",
    "    # TODO: Implement Function\n",
    "    image_shape = list(image_shape)\n",
    "    return tf.placeholder(tf.float32, shape=(None, *image_shape), name='x')\n",
    "    #return tf.placeholder(tf.float32, shape=(None, image_shape[0], image_shape[1], image_shape[2]), name='x')\n",
    "\n",
    "\n",
    "def neural_net_label_input(n_classes):\n",
    "    \"\"\"\n",
    "    Return a Tensor for a batch of label input\n",
    "    : n_classes: Number of classes\n",
    "    : return: Tensor for label input.\n",
    "    \"\"\"\n",
    "    # TODO: Implement Function\n",
    "    return tf.placeholder(tf.float32, [None, n_classes], name='y')\n",
    "\n",
    "\n",
    "def neural_net_keep_prob_input():\n",
    "    \"\"\"\n",
    "    Return a Tensor for keep probability\n",
    "    : return: Tensor for keep probability.\n",
    "    \"\"\"\n",
    "    # TODO: Implement Function\n",
    "    return tf.placeholder(tf.float32, name='keep_prob')\n",
    "\n",
    "\n",
    "\"\"\"\n",
    "DON'T MODIFY ANYTHING IN THIS CELL THAT IS BELOW THIS LINE\n",
    "\"\"\"\n",
    "tf.reset_default_graph()\n",
    "tests.test_nn_image_inputs(neural_net_image_input)\n",
    "tests.test_nn_label_inputs(neural_net_label_input)\n",
    "tests.test_nn_keep_prob_inputs(neural_net_keep_prob_input)"
   ]
  },
  {
   "cell_type": "markdown",
   "metadata": {
    "deletable": true,
    "editable": true
   },
   "source": [
    "### Convolution and Max Pooling Layer\n",
    "Convolution layers have a lot of success with images. For this code cell, you should implement the function `conv2d_maxpool` to apply convolution then max pooling:\n",
    "* Create the weight and bias using `conv_ksize`, `conv_num_outputs` and the shape of `x_tensor`.\n",
    "* Apply a convolution to `x_tensor` using weight and `conv_strides`.\n",
    " * We recommend you use same padding, but you're welcome to use any padding.\n",
    "* Add bias\n",
    "* Add a nonlinear activation to the convolution.\n",
    "* Apply Max Pooling using `pool_ksize` and `pool_strides`.\n",
    " * We recommend you use same padding, but you're welcome to use any padding.\n",
    "\n",
    "**Note:** You **can't** use [TensorFlow Layers](https://www.tensorflow.org/api_docs/python/tf/layers) or [TensorFlow Layers (contrib)](https://www.tensorflow.org/api_guides/python/contrib.layers) for **this** layer, but you can still use TensorFlow's [Neural Network](https://www.tensorflow.org/api_docs/python/tf/nn) package. You may still use the shortcut option for all the **other** layers."
   ]
  },
  {
   "cell_type": "code",
   "execution_count": 3,
   "metadata": {
    "collapsed": false,
    "deletable": true,
    "editable": true
   },
   "outputs": [
    {
     "name": "stdout",
     "output_type": "stream",
     "text": [
      "Tests Passed\n"
     ]
    }
   ],
   "source": [
    "def conv2d_maxpool(x_tensor, conv_num_outputs, conv_ksize, conv_strides, pool_ksize, pool_strides):\n",
    "    \"\"\"\n",
    "    Apply convolution then max pooling to x_tensor\n",
    "    :param x_tensor: TensorFlow Tensor\n",
    "    :param conv_num_outputs: Number of outputs for the convolutional layer\n",
    "    :param conv_ksize: kernal size 2-D Tuple for the convolutional layer\n",
    "    :param conv_strides: Stride 2-D Tuple for convolution\n",
    "    :param pool_ksize: kernal size 2-D Tuple for pool\n",
    "    :param pool_strides: Stride 2-D Tuple for pool\n",
    "    : return: A tensor that represents convolution and max pooling of x_tensor\n",
    "    \"\"\"\n",
    "    # TODO: Implement Function\n",
    "    input_depth = int(x_tensor.get_shape()[3])\n",
    "    \n",
    "    # (height, width, input_depth, output_depth)\n",
    "    filter_weights = tf.Variable(tf.truncated_normal([conv_ksize[0], conv_ksize[1], input_depth, conv_num_outputs], dtype=tf.float32, stddev = 0.05)) \n",
    "    filter_bias = tf.Variable(tf.constant(0, shape=[conv_num_outputs], dtype=tf.float32))\n",
    "    conv = tf.nn.conv2d(x_tensor, filter_weights, strides=[1, conv_strides[0], conv_strides[1], 1], padding='SAME')\n",
    "    conv = tf.nn.bias_add(conv, filter_bias)\n",
    "    conv = tf.nn.relu(conv)\n",
    "    conv = tf.nn.max_pool(conv, ksize=[1, pool_ksize[0], pool_ksize[1], 1], strides=[1, pool_strides[0], pool_strides[1], 1], padding='SAME')\n",
    "    return conv\n",
    "    \n",
    "\n",
    "\"\"\"\n",
    "DON'T MODIFY ANYTHING IN THIS CELL THAT IS BELOW THIS LINE\n",
    "\"\"\"\n",
    "tests.test_con_pool(conv2d_maxpool)"
   ]
  },
  {
   "cell_type": "markdown",
   "metadata": {
    "deletable": true,
    "editable": true
   },
   "source": [
    "### Flatten Layer\n",
    "Implement the `flatten` function to change the dimension of `x_tensor` from a 4-D tensor to a 2-D tensor.  The output should be the shape (*Batch Size*, *Flattened Image Size*). Shortcut option: you can use classes from the [TensorFlow Layers](https://www.tensorflow.org/api_docs/python/tf/layers) or [TensorFlow Layers (contrib)](https://www.tensorflow.org/api_guides/python/contrib.layers) packages for this layer. For more of a challenge, only use other TensorFlow packages."
   ]
  },
  {
   "cell_type": "code",
   "execution_count": 4,
   "metadata": {
    "collapsed": false,
    "deletable": true,
    "editable": true
   },
   "outputs": [
    {
     "name": "stdout",
     "output_type": "stream",
     "text": [
      "Tests Passed\n"
     ]
    }
   ],
   "source": [
    "def flatten(x_tensor):\n",
    "    \"\"\"\n",
    "    Flatten x_tensor to (Batch Size, Flattened Image Size)\n",
    "    : x_tensor: A tensor of size (Batch Size, ...), where ... are the image dimensions.\n",
    "    : return: A tensor of size (Batch Size, Flattened Image Size).\n",
    "    \"\"\"\n",
    "    # TODO: Implement Function\n",
    "    #print('x_tensor.get_shape()', x_tensor.get_shape())\n",
    "    #shape_img = x_tensor.get_shape()[1] * x_tensor.get_shape()[2] * x_tensor.get_shape()[3]\n",
    "    #W = x_tensor.get_shape().as_list()[1]\n",
    "    #H = x_tensor.get_shape().as_list()[2]\n",
    "    #D = x_tensor.get_shape().as_list()[3]\n",
    "    #flatten = tf.reshape(x_tensor, [-1, W*H*D])\n",
    "    #print('flatten.get_shape()', flatten.get_shape())\n",
    "    flattened = tf.contrib.layers.flatten(x_tensor)\n",
    "  \n",
    "    return flattened\n",
    "\n",
    "\n",
    "\"\"\"\n",
    "DON'T MODIFY ANYTHING IN THIS CELL THAT IS BELOW THIS LINE\n",
    "\"\"\"\n",
    "tests.test_flatten(flatten)"
   ]
  },
  {
   "cell_type": "markdown",
   "metadata": {
    "deletable": true,
    "editable": true
   },
   "source": [
    "### Fully-Connected Layer\n",
    "Implement the `fully_conn` function to apply a fully connected layer to `x_tensor` with the shape (*Batch Size*, *num_outputs*). Shortcut option: you can use classes from the [TensorFlow Layers](https://www.tensorflow.org/api_docs/python/tf/layers) or [TensorFlow Layers (contrib)](https://www.tensorflow.org/api_guides/python/contrib.layers) packages for this layer. For more of a challenge, only use other TensorFlow packages."
   ]
  },
  {
   "cell_type": "code",
   "execution_count": 5,
   "metadata": {
    "collapsed": false,
    "deletable": true,
    "editable": true
   },
   "outputs": [
    {
     "name": "stdout",
     "output_type": "stream",
     "text": [
      "Tests Passed\n"
     ]
    }
   ],
   "source": [
    "def fully_conn(x_tensor, num_outputs):\n",
    "    \"\"\"\n",
    "    Apply a fully connected layer to x_tensor using weight and bias\n",
    "    : x_tensor: A 2-D tensor where the first dimension is batch size.\n",
    "    : num_outputs: The number of output that the new tensor should be.\n",
    "    : return: A 2-D tensor where the second dimension is num_outputs.\n",
    "    \"\"\"\n",
    "    # TODO: Implement Function\n",
    "    fconn = tf.contrib.layers.fully_connected(inputs = x_tensor, num_outputs = num_outputs, activation_fn = tf.nn.relu)\n",
    "    return fconn\n",
    "\n",
    "\n",
    "\"\"\"\n",
    "DON'T MODIFY ANYTHING IN THIS CELL THAT IS BELOW THIS LINE\n",
    "\"\"\"\n",
    "tests.test_fully_conn(fully_conn)"
   ]
  },
  {
   "cell_type": "markdown",
   "metadata": {
    "deletable": true,
    "editable": true
   },
   "source": [
    "### Output Layer\n",
    "Implement the `output` function to apply a fully connected layer to `x_tensor` with the shape (*Batch Size*, *num_outputs*). Shortcut option: you can use classes from the [TensorFlow Layers](https://www.tensorflow.org/api_docs/python/tf/layers) or [TensorFlow Layers (contrib)](https://www.tensorflow.org/api_guides/python/contrib.layers) packages for this layer. For more of a challenge, only use other TensorFlow packages.\n",
    "\n",
    "**Note:** Activation, softmax, or cross entropy should **not** be applied to this."
   ]
  },
  {
   "cell_type": "code",
   "execution_count": 6,
   "metadata": {
    "collapsed": false,
    "deletable": true,
    "editable": true
   },
   "outputs": [
    {
     "name": "stdout",
     "output_type": "stream",
     "text": [
      "Tests Passed\n"
     ]
    }
   ],
   "source": [
    "def output(x_tensor, num_outputs):\n",
    "    \"\"\"\n",
    "    Apply a output layer to x_tensor using weight and bias\n",
    "    : x_tensor: A 2-D tensor where the first dimension is batch size.\n",
    "    : num_outputs: The number of output that the new tensor should be.\n",
    "    : return: A 2-D tensor where the second dimension is num_outputs.\n",
    "    \"\"\"\n",
    "    # TODO: Implement Function\n",
    "    output = tf.contrib.layers.fully_connected(inputs = x_tensor, num_outputs = num_outputs, activation_fn = None)\n",
    "    return output\n",
    "\n",
    "\n",
    "\"\"\"\n",
    "DON'T MODIFY ANYTHING IN THIS CELL THAT IS BELOW THIS LINE\n",
    "\"\"\"\n",
    "tests.test_output(output)"
   ]
  },
  {
   "cell_type": "markdown",
   "metadata": {
    "deletable": true,
    "editable": true
   },
   "source": [
    "### Create Convolutional Model\n",
    "Implement the function `conv_net` to create a convolutional neural network model. The function takes in a batch of images, `x`, and outputs logits.  Use the layers you created above to create this model:\n",
    "\n",
    "* Apply 1, 2, or 3 Convolution and Max Pool layers\n",
    "* Apply a Flatten Layer\n",
    "* Apply 1, 2, or 3 Fully Connected Layers\n",
    "* Apply an Output Layer\n",
    "* Return the output\n",
    "* Apply [TensorFlow's Dropout](https://www.tensorflow.org/api_docs/python/tf/nn/dropout) to one or more layers in the model using `keep_prob`. "
   ]
  },
  {
   "cell_type": "code",
   "execution_count": 27,
   "metadata": {
    "collapsed": false,
    "deletable": true,
    "editable": true
   },
   "outputs": [
    {
     "name": "stdout",
     "output_type": "stream",
     "text": [
      "Neural Network Built!\n"
     ]
    }
   ],
   "source": [
    "def conv_net(x, keep_prob):\n",
    "    \"\"\"\n",
    "    Create a convolutional neural network model\n",
    "    : x: Placeholder tensor that holds image data.\n",
    "    : keep_prob: Placeholder tensor that hold dropout keep probability.\n",
    "    : return: Tensor that represents logits\n",
    "    \"\"\"\n",
    "    # TODO: Apply 1, 2, or 3 Convolution and Max Pool layers\n",
    "    #    Play around with different number of outputs, kernel size and stride\n",
    "    # Function Definition from Above:\n",
    "    #    conv2d_maxpool(x_tensor, conv_num_outputs, conv_ksize, conv_strides, pool_ksize, pool_strides)\n",
    "    \n",
    "    conv_ksize = (3,3)\n",
    "    conv_strides = (1,1)\n",
    "    pool_ksize = (3,3)\n",
    "    pool_strides = (2,2)\n",
    "    num_outputs = 10\n",
    "    #keep_prob = 0.5\n",
    "\n",
    "    # The first three convolutional + maxpooling layers\n",
    "    neural_net = conv2d_maxpool(x, 32, conv_ksize, conv_strides, pool_ksize, pool_strides)\n",
    "    neural_net = conv2d_maxpool(neural_net, 64, conv_ksize, conv_strides, pool_ksize, pool_strides)\n",
    "    neural_net = conv2d_maxpool(neural_net, 128, conv_ksize, conv_strides, pool_ksize, pool_strides)\n",
    "\n",
    "    # Layer to flatten the tensor from the convolutional layers\n",
    "    neural_net = flatten(neural_net)\n",
    "\n",
    "    # Two fully connected layers with dropout\n",
    "    neural_net = fully_conn(neural_net, 64)\n",
    "    neural_net = tf.nn.dropout(neural_net, keep_prob)\n",
    "    #neural_net = fully_conn(neural_net, num_outputs)\n",
    "\n",
    "    # Layer for output\n",
    "    neural_net = output(neural_net, num_outputs)\n",
    "\n",
    "    # TODO: return output\n",
    "    return neural_net\n",
    "    \n",
    "\n",
    "#     # experiment:\n",
    "\n",
    "#     layer1 = conv2d_maxpool(x, 32, (3, 3), (1, 1), (2, 2), (2, 2))\n",
    "#     layer2 = conv2d_maxpool(layer1, 64, (3, 3), (1, 1), (2, 2), (2, 2))\n",
    "#     layer3 = conv2d_maxpool(layer2, 128, (3, 3), (1, 1), (2, 2), (2, 2))\n",
    "\n",
    "#     # TODO: Apply a Flatten Layer\n",
    "#     # Function Definition from Above:\n",
    "#     #   flatten(x_tensor)\n",
    "\n",
    "#     flat1 = flatten(layer3)\n",
    "\n",
    "#     # TODO: Apply 1, 2, or 3 Fully Connected Layers\n",
    "#     #    Play around with different number of outputs\n",
    "#     # Function Definition from Above:\n",
    "#     #   fully_conn(x_tensor, num_outputs)\n",
    "\n",
    "#     fc1 = fully_conn(flat1, 512)\n",
    "#     fc1 = tf.nn.dropout(fc1, keep_prob)\n",
    "#     fc2 = fully_conn(fc1, 512)\n",
    "#     fc2 = tf.nn.dropout(fc2, keep_prob)\n",
    "\n",
    "#     # TODO: Apply an Output Layer\n",
    "#     #    Set this to the number of classes\n",
    "#     # Function Definition from Above:\n",
    "#     #   output(x_tensor, num_outputs)\n",
    "\n",
    "#     out = output(fc2, 10)\n",
    "\n",
    "#     # TODO: return output\n",
    "\n",
    "#     return out\n",
    "\n",
    "\"\"\"\n",
    "DON'T MODIFY ANYTHING IN THIS CELL THAT IS BELOW THIS LINE\n",
    "\"\"\"\n",
    "\n",
    "##############################\n",
    "## Build the Neural Network ##\n",
    "##############################\n",
    "\n",
    "# Remove previous weights, bias, inputs, etc..\n",
    "tf.reset_default_graph()\n",
    "\n",
    "# Inputs\n",
    "x = neural_net_image_input((32, 32, 3))\n",
    "y = neural_net_label_input(10)\n",
    "keep_prob = neural_net_keep_prob_input()\n",
    "\n",
    "# Model\n",
    "logits = conv_net(x, keep_prob)\n",
    "\n",
    "# Name logits Tensor, so that is can be loaded from disk after training\n",
    "logits = tf.identity(logits, name='logits')\n",
    "\n",
    "# Loss and Optimizer\n",
    "cost = tf.reduce_mean(tf.nn.softmax_cross_entropy_with_logits(logits=logits, labels=y))\n",
    "optimizer = tf.train.AdamOptimizer().minimize(cost)\n",
    "\n",
    "# Accuracy\n",
    "correct_pred = tf.equal(tf.argmax(logits, 1), tf.argmax(y, 1))\n",
    "accuracy = tf.reduce_mean(tf.cast(correct_pred, tf.float32), name='accuracy')\n",
    "\n",
    "tests.test_conv_net(conv_net)"
   ]
  },
  {
   "cell_type": "markdown",
   "metadata": {
    "deletable": true,
    "editable": true
   },
   "source": [
    "## Train the Neural Network\n",
    "### Single Optimization\n",
    "Implement the function `train_neural_network` to do a single optimization.  The optimization should use `optimizer` to optimize in `session` with a `feed_dict` of the following:\n",
    "* `x` for image input\n",
    "* `y` for labels\n",
    "* `keep_prob` for keep probability for dropout\n",
    "\n",
    "This function will be called for each batch, so `tf.global_variables_initializer()` has already been called.\n",
    "\n",
    "Note: Nothing needs to be returned. This function is only optimizing the neural network."
   ]
  },
  {
   "cell_type": "code",
   "execution_count": 28,
   "metadata": {
    "collapsed": false,
    "deletable": true,
    "editable": true
   },
   "outputs": [
    {
     "name": "stdout",
     "output_type": "stream",
     "text": [
      "Tests Passed\n"
     ]
    }
   ],
   "source": [
    "def train_neural_network(session, optimizer, keep_probability, feature_batch, label_batch):\n",
    "    \"\"\"\n",
    "    Optimize the session on a batch of images and labels\n",
    "    : session: Current TensorFlow session\n",
    "    : optimizer: TensorFlow optimizer function\n",
    "    : keep_probability: keep probability\n",
    "    : feature_batch: Batch of Numpy image data\n",
    "    : label_batch: Batch of Numpy label data\n",
    "    \"\"\"\n",
    "    # TODO: Implement Function\n",
    "    session.run(optimizer, feed_dict={x: feature_batch, y: label_batch, keep_prob: keep_probability})\n",
    "\n",
    "\n",
    "\n",
    "\"\"\"\n",
    "DON'T MODIFY ANYTHING IN THIS CELL THAT IS BELOW THIS LINE\n",
    "\"\"\"\n",
    "tests.test_train_nn(train_neural_network)"
   ]
  },
  {
   "cell_type": "markdown",
   "metadata": {
    "deletable": true,
    "editable": true
   },
   "source": [
    "### Show Stats\n",
    "Implement the function `print_stats` to print loss and validation accuracy.  Use the global variables `valid_features` and `valid_labels` to calculate validation accuracy.  Use a keep probability of `1.0` to calculate the loss and validation accuracy."
   ]
  },
  {
   "cell_type": "code",
   "execution_count": 29,
   "metadata": {
    "collapsed": false,
    "deletable": true,
    "editable": true
   },
   "outputs": [],
   "source": [
    "def print_stats(session, feature_batch, label_batch, cost, accuracy):\n",
    "    \"\"\"\n",
    "    Print information about loss and validation accuracy\n",
    "    : session: Current TensorFlow session\n",
    "    : feature_batch: Batch of Numpy image data\n",
    "    : label_batch: Batch of Numpy label data\n",
    "    : cost: TensorFlow cost function\n",
    "    : accuracy: TensorFlow accuracy function\n",
    "    \"\"\"\n",
    "    # TODO: Implement Function\n",
    "\n",
    "    loss = sess.run(cost, feed_dict={x: feature_batch, y: label_batch, keep_prob: 1.})\n",
    "    \n",
    "    valid_acc = sess.run(accuracy, feed_dict={\n",
    "                x: valid_features,\n",
    "                y: valid_labels,\n",
    "                keep_prob: 1.0})\n",
    "   \n",
    "    print('Loss: {:>10.4f} Validation Accuracy: {:.6f}'.format(loss, valid_acc))\n"
   ]
  },
  {
   "cell_type": "markdown",
   "metadata": {
    "deletable": true,
    "editable": true
   },
   "source": [
    "### Hyperparameters\n",
    "Tune the following parameters:\n",
    "* Set `epochs` to the number of iterations until the network stops learning or start overfitting\n",
    "* Set `batch_size` to the highest number that your machine has memory for.  Most people set them to common sizes of memory:\n",
    " * 64\n",
    " * 128\n",
    " * 256\n",
    " * ...\n",
    "* Set `keep_probability` to the probability of keeping a node using dropout"
   ]
  },
  {
   "cell_type": "code",
   "execution_count": 30,
   "metadata": {
    "collapsed": true,
    "deletable": true,
    "editable": true
   },
   "outputs": [],
   "source": [
    "# TODO: Tune Parameters\n",
    "epochs = 30\n",
    "batch_size = 256\n",
    "keep_probability = 0.75"
   ]
  },
  {
   "cell_type": "markdown",
   "metadata": {
    "deletable": true,
    "editable": true
   },
   "source": [
    "### Train on a Single CIFAR-10 Batch\n",
    "Instead of training the neural network on all the CIFAR-10 batches of data, let's use a single batch. This should save time while you iterate on the model to get a better accuracy.  Once the final validation accuracy is 50% or greater, run the model on all the data in the next section."
   ]
  },
  {
   "cell_type": "code",
   "execution_count": 31,
   "metadata": {
    "collapsed": false,
    "deletable": true,
    "editable": true
   },
   "outputs": [
    {
     "name": "stdout",
     "output_type": "stream",
     "text": [
      "Checking the Training on a Single Batch...\n",
      "Epoch  1, CIFAR-10 Batch 1:  Loss:     2.0506 Validation Accuracy: 0.195200\n",
      "Epoch  2, CIFAR-10 Batch 1:  Loss:     1.8103 Validation Accuracy: 0.291200\n",
      "Epoch  3, CIFAR-10 Batch 1:  Loss:     1.6066 Validation Accuracy: 0.338600\n",
      "Epoch  4, CIFAR-10 Batch 1:  Loss:     1.5062 Validation Accuracy: 0.390800\n",
      "Epoch  5, CIFAR-10 Batch 1:  Loss:     1.3638 Validation Accuracy: 0.413200\n",
      "Epoch  6, CIFAR-10 Batch 1:  Loss:     1.1896 Validation Accuracy: 0.415800\n",
      "Epoch  7, CIFAR-10 Batch 1:  Loss:     1.0674 Validation Accuracy: 0.429400\n",
      "Epoch  8, CIFAR-10 Batch 1:  Loss:     0.8940 Validation Accuracy: 0.450400\n",
      "Epoch  9, CIFAR-10 Batch 1:  Loss:     0.7835 Validation Accuracy: 0.456400\n",
      "Epoch 10, CIFAR-10 Batch 1:  Loss:     0.7245 Validation Accuracy: 0.468200\n",
      "Epoch 11, CIFAR-10 Batch 1:  Loss:     0.6457 Validation Accuracy: 0.466600\n",
      "Epoch 12, CIFAR-10 Batch 1:  Loss:     0.5068 Validation Accuracy: 0.478200\n",
      "Epoch 13, CIFAR-10 Batch 1:  Loss:     0.4141 Validation Accuracy: 0.501600\n",
      "Epoch 14, CIFAR-10 Batch 1:  Loss:     0.3865 Validation Accuracy: 0.521200\n",
      "Epoch 15, CIFAR-10 Batch 1:  Loss:     0.3512 Validation Accuracy: 0.495000\n",
      "Epoch 16, CIFAR-10 Batch 1:  Loss:     0.2835 Validation Accuracy: 0.506800\n",
      "Epoch 17, CIFAR-10 Batch 1:  Loss:     0.2409 Validation Accuracy: 0.513600\n",
      "Epoch 18, CIFAR-10 Batch 1:  Loss:     0.2342 Validation Accuracy: 0.515400\n",
      "Epoch 19, CIFAR-10 Batch 1:  Loss:     0.2079 Validation Accuracy: 0.518200\n",
      "Epoch 20, CIFAR-10 Batch 1:  Loss:     0.2017 Validation Accuracy: 0.498200\n",
      "Epoch 21, CIFAR-10 Batch 1:  Loss:     0.1609 Validation Accuracy: 0.521600\n",
      "Epoch 22, CIFAR-10 Batch 1:  Loss:     0.1550 Validation Accuracy: 0.506400\n",
      "Epoch 23, CIFAR-10 Batch 1:  Loss:     0.1633 Validation Accuracy: 0.490800\n",
      "Epoch 24, CIFAR-10 Batch 1:  Loss:     0.1523 Validation Accuracy: 0.509600\n",
      "Epoch 25, CIFAR-10 Batch 1:  Loss:     0.1127 Validation Accuracy: 0.523000\n",
      "Epoch 26, CIFAR-10 Batch 1:  Loss:     0.0980 Validation Accuracy: 0.521400\n",
      "Epoch 27, CIFAR-10 Batch 1:  Loss:     0.1211 Validation Accuracy: 0.467800\n",
      "Epoch 28, CIFAR-10 Batch 1:  Loss:     0.0757 Validation Accuracy: 0.501800\n",
      "Epoch 29, CIFAR-10 Batch 1:  Loss:     0.0654 Validation Accuracy: 0.513200\n",
      "Epoch 30, CIFAR-10 Batch 1:  Loss:     0.0682 Validation Accuracy: 0.491800\n"
     ]
    }
   ],
   "source": [
    "\"\"\"\n",
    "DON'T MODIFY ANYTHING IN THIS CELL\n",
    "\"\"\"\n",
    "print('Checking the Training on a Single Batch...')\n",
    "with tf.Session() as sess:\n",
    "    # Initializing the variables\n",
    "    sess.run(tf.global_variables_initializer())\n",
    "    \n",
    "    # Training cycle\n",
    "    for epoch in range(epochs):\n",
    "        batch_i = 1\n",
    "        for batch_features, batch_labels in helper.load_preprocess_training_batch(batch_i, batch_size):\n",
    "            train_neural_network(sess, optimizer, keep_probability, batch_features, batch_labels)\n",
    "        print('Epoch {:>2}, CIFAR-10 Batch {}:  '.format(epoch + 1, batch_i), end='')\n",
    "        print_stats(sess, batch_features, batch_labels, cost, accuracy)"
   ]
  },
  {
   "cell_type": "markdown",
   "metadata": {
    "deletable": true,
    "editable": true
   },
   "source": [
    "### Fully Train the Model\n",
    "Now that you got a good accuracy with a single CIFAR-10 batch, try it with all five batches."
   ]
  },
  {
   "cell_type": "code",
   "execution_count": 32,
   "metadata": {
    "collapsed": false,
    "deletable": true,
    "editable": true
   },
   "outputs": [
    {
     "name": "stdout",
     "output_type": "stream",
     "text": [
      "Training...\n",
      "Epoch  1, CIFAR-10 Batch 1:  Loss:     2.0034 Validation Accuracy: 0.217600\n",
      "Epoch  1, CIFAR-10 Batch 2:  Loss:     1.9854 Validation Accuracy: 0.311000\n",
      "Epoch  1, CIFAR-10 Batch 3:  Loss:     1.7448 Validation Accuracy: 0.311400\n",
      "Epoch  1, CIFAR-10 Batch 4:  Loss:     1.6661 Validation Accuracy: 0.364000\n",
      "Epoch  1, CIFAR-10 Batch 5:  Loss:     1.6612 Validation Accuracy: 0.399000\n",
      "Epoch  2, CIFAR-10 Batch 1:  Loss:     1.7128 Validation Accuracy: 0.412600\n",
      "Epoch  2, CIFAR-10 Batch 2:  Loss:     1.6830 Validation Accuracy: 0.415600\n",
      "Epoch  2, CIFAR-10 Batch 3:  Loss:     1.4709 Validation Accuracy: 0.440600\n",
      "Epoch  2, CIFAR-10 Batch 4:  Loss:     1.4377 Validation Accuracy: 0.438600\n",
      "Epoch  2, CIFAR-10 Batch 5:  Loss:     1.5119 Validation Accuracy: 0.465000\n",
      "Epoch  3, CIFAR-10 Batch 1:  Loss:     1.5087 Validation Accuracy: 0.455600\n",
      "Epoch  3, CIFAR-10 Batch 2:  Loss:     1.3675 Validation Accuracy: 0.493000\n",
      "Epoch  3, CIFAR-10 Batch 3:  Loss:     1.2428 Validation Accuracy: 0.460200\n",
      "Epoch  3, CIFAR-10 Batch 4:  Loss:     1.2531 Validation Accuracy: 0.500600\n",
      "Epoch  3, CIFAR-10 Batch 5:  Loss:     1.2962 Validation Accuracy: 0.515400\n",
      "Epoch  4, CIFAR-10 Batch 1:  Loss:     1.3159 Validation Accuracy: 0.518200\n",
      "Epoch  4, CIFAR-10 Batch 2:  Loss:     1.2195 Validation Accuracy: 0.501400\n",
      "Epoch  4, CIFAR-10 Batch 3:  Loss:     1.1182 Validation Accuracy: 0.470200\n",
      "Epoch  4, CIFAR-10 Batch 4:  Loss:     1.0838 Validation Accuracy: 0.515800\n",
      "Epoch  4, CIFAR-10 Batch 5:  Loss:     1.1504 Validation Accuracy: 0.541200\n",
      "Epoch  5, CIFAR-10 Batch 1:  Loss:     1.2256 Validation Accuracy: 0.500800\n",
      "Epoch  5, CIFAR-10 Batch 2:  Loss:     0.9921 Validation Accuracy: 0.524000\n",
      "Epoch  5, CIFAR-10 Batch 3:  Loss:     1.0202 Validation Accuracy: 0.496000\n",
      "Epoch  5, CIFAR-10 Batch 4:  Loss:     0.9287 Validation Accuracy: 0.550200\n",
      "Epoch  5, CIFAR-10 Batch 5:  Loss:     1.0334 Validation Accuracy: 0.538800\n",
      "Epoch  6, CIFAR-10 Batch 1:  Loss:     0.9881 Validation Accuracy: 0.552000\n",
      "Epoch  6, CIFAR-10 Batch 2:  Loss:     0.8905 Validation Accuracy: 0.550400\n",
      "Epoch  6, CIFAR-10 Batch 3:  Loss:     0.8389 Validation Accuracy: 0.533200\n",
      "Epoch  6, CIFAR-10 Batch 4:  Loss:     0.7872 Validation Accuracy: 0.572000\n",
      "Epoch  6, CIFAR-10 Batch 5:  Loss:     0.9014 Validation Accuracy: 0.557800\n",
      "Epoch  7, CIFAR-10 Batch 1:  Loss:     0.9167 Validation Accuracy: 0.568600\n",
      "Epoch  7, CIFAR-10 Batch 2:  Loss:     0.7481 Validation Accuracy: 0.576600\n",
      "Epoch  7, CIFAR-10 Batch 3:  Loss:     0.7268 Validation Accuracy: 0.577600\n",
      "Epoch  7, CIFAR-10 Batch 4:  Loss:     0.6630 Validation Accuracy: 0.589000\n",
      "Epoch  7, CIFAR-10 Batch 5:  Loss:     0.8127 Validation Accuracy: 0.554800\n",
      "Epoch  8, CIFAR-10 Batch 1:  Loss:     0.8164 Validation Accuracy: 0.581200\n",
      "Epoch  8, CIFAR-10 Batch 2:  Loss:     0.6784 Validation Accuracy: 0.585800\n",
      "Epoch  8, CIFAR-10 Batch 3:  Loss:     0.6228 Validation Accuracy: 0.585200\n",
      "Epoch  8, CIFAR-10 Batch 4:  Loss:     0.5928 Validation Accuracy: 0.591600\n",
      "Epoch  8, CIFAR-10 Batch 5:  Loss:     0.6445 Validation Accuracy: 0.577600\n",
      "Epoch  9, CIFAR-10 Batch 1:  Loss:     0.7192 Validation Accuracy: 0.595800\n",
      "Epoch  9, CIFAR-10 Batch 2:  Loss:     0.5758 Validation Accuracy: 0.585200\n",
      "Epoch  9, CIFAR-10 Batch 3:  Loss:     0.5175 Validation Accuracy: 0.586000\n",
      "Epoch  9, CIFAR-10 Batch 4:  Loss:     0.5458 Validation Accuracy: 0.604600\n",
      "Epoch  9, CIFAR-10 Batch 5:  Loss:     0.6170 Validation Accuracy: 0.596000\n",
      "Epoch 10, CIFAR-10 Batch 1:  Loss:     0.6161 Validation Accuracy: 0.599200\n",
      "Epoch 10, CIFAR-10 Batch 2:  Loss:     0.5283 Validation Accuracy: 0.607600\n",
      "Epoch 10, CIFAR-10 Batch 3:  Loss:     0.4455 Validation Accuracy: 0.602800\n",
      "Epoch 10, CIFAR-10 Batch 4:  Loss:     0.4631 Validation Accuracy: 0.617000\n",
      "Epoch 10, CIFAR-10 Batch 5:  Loss:     0.5337 Validation Accuracy: 0.617400\n",
      "Epoch 11, CIFAR-10 Batch 1:  Loss:     0.5289 Validation Accuracy: 0.610600\n",
      "Epoch 11, CIFAR-10 Batch 2:  Loss:     0.4500 Validation Accuracy: 0.605200\n",
      "Epoch 11, CIFAR-10 Batch 3:  Loss:     0.3879 Validation Accuracy: 0.607000\n",
      "Epoch 11, CIFAR-10 Batch 4:  Loss:     0.4149 Validation Accuracy: 0.619200\n",
      "Epoch 11, CIFAR-10 Batch 5:  Loss:     0.4638 Validation Accuracy: 0.623000\n",
      "Epoch 12, CIFAR-10 Batch 1:  Loss:     0.4946 Validation Accuracy: 0.620200\n",
      "Epoch 12, CIFAR-10 Batch 2:  Loss:     0.4125 Validation Accuracy: 0.621400\n",
      "Epoch 12, CIFAR-10 Batch 3:  Loss:     0.3377 Validation Accuracy: 0.613600\n",
      "Epoch 12, CIFAR-10 Batch 4:  Loss:     0.3504 Validation Accuracy: 0.623000\n",
      "Epoch 12, CIFAR-10 Batch 5:  Loss:     0.4158 Validation Accuracy: 0.625000\n",
      "Epoch 13, CIFAR-10 Batch 1:  Loss:     0.4464 Validation Accuracy: 0.607400\n",
      "Epoch 13, CIFAR-10 Batch 2:  Loss:     0.3713 Validation Accuracy: 0.607800\n",
      "Epoch 13, CIFAR-10 Batch 3:  Loss:     0.3219 Validation Accuracy: 0.609600\n",
      "Epoch 13, CIFAR-10 Batch 4:  Loss:     0.3336 Validation Accuracy: 0.621200\n",
      "Epoch 13, CIFAR-10 Batch 5:  Loss:     0.3711 Validation Accuracy: 0.629200\n",
      "Epoch 14, CIFAR-10 Batch 1:  Loss:     0.4049 Validation Accuracy: 0.618000\n",
      "Epoch 14, CIFAR-10 Batch 2:  Loss:     0.3394 Validation Accuracy: 0.623600\n",
      "Epoch 14, CIFAR-10 Batch 3:  Loss:     0.3537 Validation Accuracy: 0.613400\n",
      "Epoch 14, CIFAR-10 Batch 4:  Loss:     0.3132 Validation Accuracy: 0.619800\n",
      "Epoch 14, CIFAR-10 Batch 5:  Loss:     0.3176 Validation Accuracy: 0.640200\n",
      "Epoch 15, CIFAR-10 Batch 1:  Loss:     0.3665 Validation Accuracy: 0.624000\n",
      "Epoch 15, CIFAR-10 Batch 2:  Loss:     0.2948 Validation Accuracy: 0.628600\n",
      "Epoch 15, CIFAR-10 Batch 3:  Loss:     0.3199 Validation Accuracy: 0.624000\n",
      "Epoch 15, CIFAR-10 Batch 4:  Loss:     0.3048 Validation Accuracy: 0.616200\n",
      "Epoch 15, CIFAR-10 Batch 5:  Loss:     0.2777 Validation Accuracy: 0.632200\n",
      "Epoch 16, CIFAR-10 Batch 1:  Loss:     0.2791 Validation Accuracy: 0.635000\n",
      "Epoch 16, CIFAR-10 Batch 2:  Loss:     0.3019 Validation Accuracy: 0.624000\n",
      "Epoch 16, CIFAR-10 Batch 3:  Loss:     0.3186 Validation Accuracy: 0.602400\n",
      "Epoch 16, CIFAR-10 Batch 4:  Loss:     0.2447 Validation Accuracy: 0.618800\n",
      "Epoch 16, CIFAR-10 Batch 5:  Loss:     0.2734 Validation Accuracy: 0.630200\n",
      "Epoch 17, CIFAR-10 Batch 1:  Loss:     0.2612 Validation Accuracy: 0.615800\n",
      "Epoch 17, CIFAR-10 Batch 2:  Loss:     0.2503 Validation Accuracy: 0.613000\n",
      "Epoch 17, CIFAR-10 Batch 3:  Loss:     0.2572 Validation Accuracy: 0.617600\n",
      "Epoch 17, CIFAR-10 Batch 4:  Loss:     0.1984 Validation Accuracy: 0.624400\n",
      "Epoch 17, CIFAR-10 Batch 5:  Loss:     0.2497 Validation Accuracy: 0.617000\n",
      "Epoch 18, CIFAR-10 Batch 1:  Loss:     0.2472 Validation Accuracy: 0.611200\n",
      "Epoch 18, CIFAR-10 Batch 2:  Loss:     0.2153 Validation Accuracy: 0.617200\n",
      "Epoch 18, CIFAR-10 Batch 3:  Loss:     0.2145 Validation Accuracy: 0.621400\n",
      "Epoch 18, CIFAR-10 Batch 4:  Loss:     0.2203 Validation Accuracy: 0.603800\n",
      "Epoch 18, CIFAR-10 Batch 5:  Loss:     0.2293 Validation Accuracy: 0.634400\n",
      "Epoch 19, CIFAR-10 Batch 1:  Loss:     0.2553 Validation Accuracy: 0.627800\n",
      "Epoch 19, CIFAR-10 Batch 2:  Loss:     0.2189 Validation Accuracy: 0.624200\n",
      "Epoch 19, CIFAR-10 Batch 3:  Loss:     0.1626 Validation Accuracy: 0.626600\n",
      "Epoch 19, CIFAR-10 Batch 4:  Loss:     0.2078 Validation Accuracy: 0.612800\n",
      "Epoch 19, CIFAR-10 Batch 5:  Loss:     0.2247 Validation Accuracy: 0.633400\n",
      "Epoch 20, CIFAR-10 Batch 1:  Loss:     0.2407 Validation Accuracy: 0.619800\n",
      "Epoch 20, CIFAR-10 Batch 2:  Loss:     0.1824 Validation Accuracy: 0.624000\n",
      "Epoch 20, CIFAR-10 Batch 3:  Loss:     0.1525 Validation Accuracy: 0.608600\n",
      "Epoch 20, CIFAR-10 Batch 4:  Loss:     0.1823 Validation Accuracy: 0.603000\n",
      "Epoch 20, CIFAR-10 Batch 5:  Loss:     0.1924 Validation Accuracy: 0.618400\n",
      "Epoch 21, CIFAR-10 Batch 1:  Loss:     0.1958 Validation Accuracy: 0.617000\n",
      "Epoch 21, CIFAR-10 Batch 2:  Loss:     0.1754 Validation Accuracy: 0.623600\n",
      "Epoch 21, CIFAR-10 Batch 3:  Loss:     0.1711 Validation Accuracy: 0.605600\n",
      "Epoch 21, CIFAR-10 Batch 4:  Loss:     0.1910 Validation Accuracy: 0.599200\n",
      "Epoch 21, CIFAR-10 Batch 5:  Loss:     0.1469 Validation Accuracy: 0.623000\n",
      "Epoch 22, CIFAR-10 Batch 1:  Loss:     0.1376 Validation Accuracy: 0.631400\n",
      "Epoch 22, CIFAR-10 Batch 2:  Loss:     0.1848 Validation Accuracy: 0.626400\n",
      "Epoch 22, CIFAR-10 Batch 3:  Loss:     0.1600 Validation Accuracy: 0.576200\n",
      "Epoch 22, CIFAR-10 Batch 4:  Loss:     0.1606 Validation Accuracy: 0.610800\n",
      "Epoch 22, CIFAR-10 Batch 5:  Loss:     0.1465 Validation Accuracy: 0.617200\n",
      "Epoch 23, CIFAR-10 Batch 1:  Loss:     0.1413 Validation Accuracy: 0.631800\n",
      "Epoch 23, CIFAR-10 Batch 2:  Loss:     0.1955 Validation Accuracy: 0.609000\n",
      "Epoch 23, CIFAR-10 Batch 3:  Loss:     0.1048 Validation Accuracy: 0.615200\n",
      "Epoch 23, CIFAR-10 Batch 4:  Loss:     0.1360 Validation Accuracy: 0.606600\n",
      "Epoch 23, CIFAR-10 Batch 5:  Loss:     0.1458 Validation Accuracy: 0.622200\n",
      "Epoch 24, CIFAR-10 Batch 1:  Loss:     0.1143 Validation Accuracy: 0.625000\n",
      "Epoch 24, CIFAR-10 Batch 2:  Loss:     0.1807 Validation Accuracy: 0.583800\n",
      "Epoch 24, CIFAR-10 Batch 3:  Loss:     0.0987 Validation Accuracy: 0.604400\n",
      "Epoch 24, CIFAR-10 Batch 4:  Loss:     0.1471 Validation Accuracy: 0.618600\n",
      "Epoch 24, CIFAR-10 Batch 5:  Loss:     0.1166 Validation Accuracy: 0.612400\n",
      "Epoch 25, CIFAR-10 Batch 1:  Loss:     0.1397 Validation Accuracy: 0.616200\n",
      "Epoch 25, CIFAR-10 Batch 2:  Loss:     0.1633 Validation Accuracy: 0.596600\n",
      "Epoch 25, CIFAR-10 Batch 3:  Loss:     0.1203 Validation Accuracy: 0.578200\n",
      "Epoch 25, CIFAR-10 Batch 4:  Loss:     0.1335 Validation Accuracy: 0.617600\n",
      "Epoch 25, CIFAR-10 Batch 5:  Loss:     0.1315 Validation Accuracy: 0.619200\n",
      "Epoch 26, CIFAR-10 Batch 1:  Loss:     0.1268 Validation Accuracy: 0.626400\n",
      "Epoch 26, CIFAR-10 Batch 2:  Loss:     0.1422 Validation Accuracy: 0.587600\n",
      "Epoch 26, CIFAR-10 Batch 3:  Loss:     0.1006 Validation Accuracy: 0.608000\n",
      "Epoch 26, CIFAR-10 Batch 4:  Loss:     0.1337 Validation Accuracy: 0.611600\n",
      "Epoch 26, CIFAR-10 Batch 5:  Loss:     0.1081 Validation Accuracy: 0.612800\n",
      "Epoch 27, CIFAR-10 Batch 1:  Loss:     0.0873 Validation Accuracy: 0.626800\n",
      "Epoch 27, CIFAR-10 Batch 2:  Loss:     0.1222 Validation Accuracy: 0.595000\n",
      "Epoch 27, CIFAR-10 Batch 3:  Loss:     0.0767 Validation Accuracy: 0.614000\n",
      "Epoch 27, CIFAR-10 Batch 4:  Loss:     0.1167 Validation Accuracy: 0.617000\n",
      "Epoch 27, CIFAR-10 Batch 5:  Loss:     0.1022 Validation Accuracy: 0.619800\n",
      "Epoch 28, CIFAR-10 Batch 1:  Loss:     0.0978 Validation Accuracy: 0.618200\n",
      "Epoch 28, CIFAR-10 Batch 2:  Loss:     0.1149 Validation Accuracy: 0.581600\n",
      "Epoch 28, CIFAR-10 Batch 3:  Loss:     0.0685 Validation Accuracy: 0.618400\n",
      "Epoch 28, CIFAR-10 Batch 4:  Loss:     0.0844 Validation Accuracy: 0.612600\n",
      "Epoch 28, CIFAR-10 Batch 5:  Loss:     0.0725 Validation Accuracy: 0.628200\n",
      "Epoch 29, CIFAR-10 Batch 1:  Loss:     0.1049 Validation Accuracy: 0.602000\n",
      "Epoch 29, CIFAR-10 Batch 2:  Loss:     0.1115 Validation Accuracy: 0.581600\n",
      "Epoch 29, CIFAR-10 Batch 3:  Loss:     0.0584 Validation Accuracy: 0.625000\n",
      "Epoch 29, CIFAR-10 Batch 4:  Loss:     0.0956 Validation Accuracy: 0.624000\n",
      "Epoch 29, CIFAR-10 Batch 5:  Loss:     0.0757 Validation Accuracy: 0.623400\n",
      "Epoch 30, CIFAR-10 Batch 1:  Loss:     0.0956 Validation Accuracy: 0.595000\n",
      "Epoch 30, CIFAR-10 Batch 2:  Loss:     0.1163 Validation Accuracy: 0.586600\n",
      "Epoch 30, CIFAR-10 Batch 3:  Loss:     0.0929 Validation Accuracy: 0.616800\n",
      "Epoch 30, CIFAR-10 Batch 4:  Loss:     0.0938 Validation Accuracy: 0.615600\n",
      "Epoch 30, CIFAR-10 Batch 5:  Loss:     0.0921 Validation Accuracy: 0.620200\n"
     ]
    }
   ],
   "source": [
    "\"\"\"\n",
    "DON'T MODIFY ANYTHING IN THIS CELL\n",
    "\"\"\"\n",
    "save_model_path = './image_classification'\n",
    "\n",
    "print('Training...')\n",
    "with tf.Session() as sess:\n",
    "    # Initializing the variables\n",
    "    sess.run(tf.global_variables_initializer())\n",
    "    \n",
    "    # Training cycle\n",
    "    for epoch in range(epochs):\n",
    "        # Loop over all batches\n",
    "        n_batches = 5\n",
    "        for batch_i in range(1, n_batches + 1):\n",
    "            for batch_features, batch_labels in helper.load_preprocess_training_batch(batch_i, batch_size):\n",
    "                train_neural_network(sess, optimizer, keep_probability, batch_features, batch_labels)\n",
    "            print('Epoch {:>2}, CIFAR-10 Batch {}:  '.format(epoch + 1, batch_i), end='')\n",
    "            print_stats(sess, batch_features, batch_labels, cost, accuracy)\n",
    "            \n",
    "    # Save Model\n",
    "    saver = tf.train.Saver()\n",
    "    save_path = saver.save(sess, save_model_path)"
   ]
  },
  {
   "cell_type": "markdown",
   "metadata": {
    "deletable": true,
    "editable": true
   },
   "source": [
    "# Checkpoint\n",
    "The model has been saved to disk.\n",
    "## Test Model\n",
    "Test your model against the test dataset.  This will be your final accuracy. You should have an accuracy greater than 50%. If you don't, keep tweaking the model architecture and parameters."
   ]
  },
  {
   "cell_type": "code",
   "execution_count": 33,
   "metadata": {
    "collapsed": false,
    "deletable": true,
    "editable": true
   },
   "outputs": [
    {
     "name": "stdout",
     "output_type": "stream",
     "text": [
      "Testing Accuracy: 0.6130859375\n",
      "\n"
     ]
    },
    {
     "data": {
      "image/png": "[encoded data removed]",
      "text/plain": [
       "<matplotlib.figure.Figure at 0x7f640c13aa90>"
      ]
     },
     "metadata": {
      "image/png": {
       "height": 319,
       "width": 355
      }
     },
     "output_type": "display_data"
    }
   ],
   "source": [
    "\"\"\"\n",
    "DON'T MODIFY ANYTHING IN THIS CELL\n",
    "\"\"\"\n",
    "%matplotlib inline\n",
    "%config InlineBackend.figure_format = 'retina'\n",
    "\n",
    "import tensorflow as tf\n",
    "import pickle\n",
    "import helper\n",
    "import random\n",
    "\n",
    "# Set batch size if not already set\n",
    "try:\n",
    "    if batch_size:\n",
    "        pass\n",
    "except NameError:\n",
    "    batch_size = 64\n",
    "\n",
    "save_model_path = './image_classification'\n",
    "n_samples = 4\n",
    "top_n_predictions = 3\n",
    "\n",
    "def test_model():\n",
    "    \"\"\"\n",
    "    Test the saved model against the test dataset\n",
    "    \"\"\"\n",
    "\n",
    "    test_features, test_labels = pickle.load(open('preprocess_training.p', mode='rb'))\n",
    "    loaded_graph = tf.Graph()\n",
    "\n",
    "    with tf.Session(graph=loaded_graph) as sess:\n",
    "        # Load model\n",
    "        loader = tf.train.import_meta_graph(save_model_path + '.meta')\n",
    "        loader.restore(sess, save_model_path)\n",
    "\n",
    "        # Get Tensors from loaded model\n",
    "        loaded_x = loaded_graph.get_tensor_by_name('x:0')\n",
    "        loaded_y = loaded_graph.get_tensor_by_name('y:0')\n",
    "        loaded_keep_prob = loaded_graph.get_tensor_by_name('keep_prob:0')\n",
    "        loaded_logits = loaded_graph.get_tensor_by_name('logits:0')\n",
    "        loaded_acc = loaded_graph.get_tensor_by_name('accuracy:0')\n",
    "        \n",
    "        # Get accuracy in batches for memory limitations\n",
    "        test_batch_acc_total = 0\n",
    "        test_batch_count = 0\n",
    "        \n",
    "        for train_feature_batch, train_label_batch in helper.batch_features_labels(test_features, test_labels, batch_size):\n",
    "            test_batch_acc_total += sess.run(\n",
    "                loaded_acc,\n",
    "                feed_dict={loaded_x: train_feature_batch, loaded_y: train_label_batch, loaded_keep_prob: 1.0})\n",
    "            test_batch_count += 1\n",
    "\n",
    "        print('Testing Accuracy: {}\\n'.format(test_batch_acc_total/test_batch_count))\n",
    "\n",
    "        # Print Random Samples\n",
    "        random_test_features, random_test_labels = tuple(zip(*random.sample(list(zip(test_features, test_labels)), n_samples)))\n",
    "        random_test_predictions = sess.run(\n",
    "            tf.nn.top_k(tf.nn.softmax(loaded_logits), top_n_predictions),\n",
    "            feed_dict={loaded_x: random_test_features, loaded_y: random_test_labels, loaded_keep_prob: 1.0})\n",
    "        helper.display_image_predictions(random_test_features, random_test_labels, random_test_predictions)\n",
    "\n",
    "\n",
    "test_model()"
   ]
  },
  {
   "cell_type": "markdown",
   "metadata": {
    "deletable": true,
    "editable": true
   },
   "source": [
    "## Why 50-70% Accuracy?\n",
    "You might be wondering why you can't get an accuracy any higher. First things first, 50% isn't bad for a simple CNN.  Pure guessing would get you 10% accuracy. However, you might notice people are getting scores [well above 70%](http://rodrigob.github.io/are_we_there_yet/build/classification_datasets_results.html#43494641522d3130).  That's because we haven't taught you all there is to know about neural networks. We still need to cover a few more techniques.\n",
    "## Submitting This Project\n",
    "When submitting this project, make sure to run all the cells before saving the notebook.  Save the notebook file as \"dlnd_image_classification.ipynb\" and save it as a HTML file under \"File\" -> \"Download as\".  Include the \"helper.py\" and \"problem_unittests.py\" files in your submission."
   ]
  }
 ],
 "metadata": {
  "anaconda-cloud": {},
  "kernelspec": {
   "display_name": "Python [tensorflow]",
   "language": "python",
   "name": "Python [tensorflow]"
  },
  "language_info": {
   "codemirror_mode": {
    "name": "ipython",
    "version": 3
   },
   "file_extension": ".py",
   "mimetype": "text/x-python",
   "name": "python",
   "nbconvert_exporter": "python",
   "pygments_lexer": "ipython3",
   "version": "3.5.3"
  }
 },
 "nbformat": 4,
 "nbformat_minor": 0
}
